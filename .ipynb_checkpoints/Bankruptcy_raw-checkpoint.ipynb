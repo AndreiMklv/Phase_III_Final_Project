{
 "cells": [
  {
   "cell_type": "code",
   "execution_count": 1,
   "metadata": {},
   "outputs": [
    {
     "name": "stderr",
     "output_type": "stream",
     "text": [
      "/Users/andreim/opt/anaconda3/envs/learn-env/lib/python3.8/site-packages/xgboost/compat.py:93: FutureWarning: pandas.Int64Index is deprecated and will be removed from pandas in a future version. Use pandas.Index with the appropriate dtype instead.\n",
      "  from pandas import MultiIndex, Int64Index\n"
     ]
    }
   ],
   "source": [
    "import pandas as pd\n",
    "from sklearn.model_selection import train_test_split\n",
    "import numpy as np\n",
    "from sklearn.metrics import precision_score, recall_score, accuracy_score, f1_score\n",
    "import matplotlib.pyplot as plt\n",
    "from sklearn.metrics import confusion_matrix\n",
    "from sklearn.metrics import plot_confusion_matrix\n",
    "from sklearn.preprocessing import StandardScaler\n",
    "from sklearn.metrics import precision_score, recall_score, accuracy_score, f1_score, classification_report\n",
    "from sklearn.tree import DecisionTreeClassifier\n",
    "from sklearn.ensemble import BaggingClassifier, RandomForestClassifier\n",
    "from xgboost import XGBClassifier\n",
    "from sklearn.feature_selection import (VarianceThreshold, SelectKBest, f_regression, mutual_info_regression, \n",
    "    RFE, RFECV)\n",
    "from sklearn.linear_model import LinearRegression, LassoCV, Lasso\n",
    "from sklearn.metrics import mean_squared_error\n",
    "from sklearn.linear_model import LogisticRegression\n",
    "from imblearn.over_sampling import RandomOverSampler\n",
    "from imblearn.under_sampling import RandomUnderSampler\n",
    "from imblearn.over_sampling import SMOTE\n",
    "\n",
    "\n"
   ]
  },
  {
   "cell_type": "code",
   "execution_count": 2,
   "metadata": {},
   "outputs": [],
   "source": [
    "data = pd.read_csv('/Users/andreim/Desktop/Mastering/Flatiron/Phase_III/Final_Project/Bankruptcy/data.csv')"
   ]
  },
  {
   "cell_type": "code",
   "execution_count": 3,
   "metadata": {},
   "outputs": [
    {
     "data": {
      "text/html": [
       "<div>\n",
       "<style scoped>\n",
       "    .dataframe tbody tr th:only-of-type {\n",
       "        vertical-align: middle;\n",
       "    }\n",
       "\n",
       "    .dataframe tbody tr th {\n",
       "        vertical-align: top;\n",
       "    }\n",
       "\n",
       "    .dataframe thead th {\n",
       "        text-align: right;\n",
       "    }\n",
       "</style>\n",
       "<table border=\"1\" class=\"dataframe\">\n",
       "  <thead>\n",
       "    <tr style=\"text-align: right;\">\n",
       "      <th></th>\n",
       "      <th>Bankrupt?</th>\n",
       "      <th>ROA(C) before interest and depreciation before interest</th>\n",
       "      <th>ROA(A) before interest and % after tax</th>\n",
       "      <th>ROA(B) before interest and depreciation after tax</th>\n",
       "      <th>Operating Gross Margin</th>\n",
       "      <th>Realized Sales Gross Margin</th>\n",
       "      <th>Operating Profit Rate</th>\n",
       "      <th>Pre-tax net Interest Rate</th>\n",
       "      <th>After-tax net Interest Rate</th>\n",
       "      <th>Non-industry income and expenditure/revenue</th>\n",
       "      <th>...</th>\n",
       "      <th>Net Income to Total Assets</th>\n",
       "      <th>Total assets to GNP price</th>\n",
       "      <th>No-credit Interval</th>\n",
       "      <th>Gross Profit to Sales</th>\n",
       "      <th>Net Income to Stockholder's Equity</th>\n",
       "      <th>Liability to Equity</th>\n",
       "      <th>Degree of Financial Leverage (DFL)</th>\n",
       "      <th>Interest Coverage Ratio (Interest expense to EBIT)</th>\n",
       "      <th>Net Income Flag</th>\n",
       "      <th>Equity to Liability</th>\n",
       "    </tr>\n",
       "  </thead>\n",
       "  <tbody>\n",
       "    <tr>\n",
       "      <th>0</th>\n",
       "      <td>1</td>\n",
       "      <td>0.370594</td>\n",
       "      <td>0.424389</td>\n",
       "      <td>0.405750</td>\n",
       "      <td>0.601457</td>\n",
       "      <td>0.601457</td>\n",
       "      <td>0.998969</td>\n",
       "      <td>0.796887</td>\n",
       "      <td>0.808809</td>\n",
       "      <td>0.302646</td>\n",
       "      <td>...</td>\n",
       "      <td>0.716845</td>\n",
       "      <td>0.009219</td>\n",
       "      <td>0.622879</td>\n",
       "      <td>0.601453</td>\n",
       "      <td>0.827890</td>\n",
       "      <td>0.290202</td>\n",
       "      <td>0.026601</td>\n",
       "      <td>0.564050</td>\n",
       "      <td>1</td>\n",
       "      <td>0.016469</td>\n",
       "    </tr>\n",
       "    <tr>\n",
       "      <th>1</th>\n",
       "      <td>1</td>\n",
       "      <td>0.464291</td>\n",
       "      <td>0.538214</td>\n",
       "      <td>0.516730</td>\n",
       "      <td>0.610235</td>\n",
       "      <td>0.610235</td>\n",
       "      <td>0.998946</td>\n",
       "      <td>0.797380</td>\n",
       "      <td>0.809301</td>\n",
       "      <td>0.303556</td>\n",
       "      <td>...</td>\n",
       "      <td>0.795297</td>\n",
       "      <td>0.008323</td>\n",
       "      <td>0.623652</td>\n",
       "      <td>0.610237</td>\n",
       "      <td>0.839969</td>\n",
       "      <td>0.283846</td>\n",
       "      <td>0.264577</td>\n",
       "      <td>0.570175</td>\n",
       "      <td>1</td>\n",
       "      <td>0.020794</td>\n",
       "    </tr>\n",
       "    <tr>\n",
       "      <th>2</th>\n",
       "      <td>1</td>\n",
       "      <td>0.426071</td>\n",
       "      <td>0.499019</td>\n",
       "      <td>0.472295</td>\n",
       "      <td>0.601450</td>\n",
       "      <td>0.601364</td>\n",
       "      <td>0.998857</td>\n",
       "      <td>0.796403</td>\n",
       "      <td>0.808388</td>\n",
       "      <td>0.302035</td>\n",
       "      <td>...</td>\n",
       "      <td>0.774670</td>\n",
       "      <td>0.040003</td>\n",
       "      <td>0.623841</td>\n",
       "      <td>0.601449</td>\n",
       "      <td>0.836774</td>\n",
       "      <td>0.290189</td>\n",
       "      <td>0.026555</td>\n",
       "      <td>0.563706</td>\n",
       "      <td>1</td>\n",
       "      <td>0.016474</td>\n",
       "    </tr>\n",
       "    <tr>\n",
       "      <th>3</th>\n",
       "      <td>1</td>\n",
       "      <td>0.399844</td>\n",
       "      <td>0.451265</td>\n",
       "      <td>0.457733</td>\n",
       "      <td>0.583541</td>\n",
       "      <td>0.583541</td>\n",
       "      <td>0.998700</td>\n",
       "      <td>0.796967</td>\n",
       "      <td>0.808966</td>\n",
       "      <td>0.303350</td>\n",
       "      <td>...</td>\n",
       "      <td>0.739555</td>\n",
       "      <td>0.003252</td>\n",
       "      <td>0.622929</td>\n",
       "      <td>0.583538</td>\n",
       "      <td>0.834697</td>\n",
       "      <td>0.281721</td>\n",
       "      <td>0.026697</td>\n",
       "      <td>0.564663</td>\n",
       "      <td>1</td>\n",
       "      <td>0.023982</td>\n",
       "    </tr>\n",
       "    <tr>\n",
       "      <th>4</th>\n",
       "      <td>1</td>\n",
       "      <td>0.465022</td>\n",
       "      <td>0.538432</td>\n",
       "      <td>0.522298</td>\n",
       "      <td>0.598783</td>\n",
       "      <td>0.598783</td>\n",
       "      <td>0.998973</td>\n",
       "      <td>0.797366</td>\n",
       "      <td>0.809304</td>\n",
       "      <td>0.303475</td>\n",
       "      <td>...</td>\n",
       "      <td>0.795016</td>\n",
       "      <td>0.003878</td>\n",
       "      <td>0.623521</td>\n",
       "      <td>0.598782</td>\n",
       "      <td>0.839973</td>\n",
       "      <td>0.278514</td>\n",
       "      <td>0.024752</td>\n",
       "      <td>0.575617</td>\n",
       "      <td>1</td>\n",
       "      <td>0.035490</td>\n",
       "    </tr>\n",
       "  </tbody>\n",
       "</table>\n",
       "<p>5 rows × 96 columns</p>\n",
       "</div>"
      ],
      "text/plain": [
       "   Bankrupt?   ROA(C) before interest and depreciation before interest  \\\n",
       "0          1                                           0.370594          \n",
       "1          1                                           0.464291          \n",
       "2          1                                           0.426071          \n",
       "3          1                                           0.399844          \n",
       "4          1                                           0.465022          \n",
       "\n",
       "    ROA(A) before interest and % after tax  \\\n",
       "0                                 0.424389   \n",
       "1                                 0.538214   \n",
       "2                                 0.499019   \n",
       "3                                 0.451265   \n",
       "4                                 0.538432   \n",
       "\n",
       "    ROA(B) before interest and depreciation after tax  \\\n",
       "0                                           0.405750    \n",
       "1                                           0.516730    \n",
       "2                                           0.472295    \n",
       "3                                           0.457733    \n",
       "4                                           0.522298    \n",
       "\n",
       "    Operating Gross Margin   Realized Sales Gross Margin  \\\n",
       "0                 0.601457                      0.601457   \n",
       "1                 0.610235                      0.610235   \n",
       "2                 0.601450                      0.601364   \n",
       "3                 0.583541                      0.583541   \n",
       "4                 0.598783                      0.598783   \n",
       "\n",
       "    Operating Profit Rate   Pre-tax net Interest Rate  \\\n",
       "0                0.998969                    0.796887   \n",
       "1                0.998946                    0.797380   \n",
       "2                0.998857                    0.796403   \n",
       "3                0.998700                    0.796967   \n",
       "4                0.998973                    0.797366   \n",
       "\n",
       "    After-tax net Interest Rate   Non-industry income and expenditure/revenue  \\\n",
       "0                      0.808809                                      0.302646   \n",
       "1                      0.809301                                      0.303556   \n",
       "2                      0.808388                                      0.302035   \n",
       "3                      0.808966                                      0.303350   \n",
       "4                      0.809304                                      0.303475   \n",
       "\n",
       "   ...   Net Income to Total Assets   Total assets to GNP price  \\\n",
       "0  ...                     0.716845                    0.009219   \n",
       "1  ...                     0.795297                    0.008323   \n",
       "2  ...                     0.774670                    0.040003   \n",
       "3  ...                     0.739555                    0.003252   \n",
       "4  ...                     0.795016                    0.003878   \n",
       "\n",
       "    No-credit Interval   Gross Profit to Sales  \\\n",
       "0             0.622879                0.601453   \n",
       "1             0.623652                0.610237   \n",
       "2             0.623841                0.601449   \n",
       "3             0.622929                0.583538   \n",
       "4             0.623521                0.598782   \n",
       "\n",
       "    Net Income to Stockholder's Equity   Liability to Equity  \\\n",
       "0                             0.827890              0.290202   \n",
       "1                             0.839969              0.283846   \n",
       "2                             0.836774              0.290189   \n",
       "3                             0.834697              0.281721   \n",
       "4                             0.839973              0.278514   \n",
       "\n",
       "    Degree of Financial Leverage (DFL)  \\\n",
       "0                             0.026601   \n",
       "1                             0.264577   \n",
       "2                             0.026555   \n",
       "3                             0.026697   \n",
       "4                             0.024752   \n",
       "\n",
       "    Interest Coverage Ratio (Interest expense to EBIT)   Net Income Flag  \\\n",
       "0                                           0.564050                   1   \n",
       "1                                           0.570175                   1   \n",
       "2                                           0.563706                   1   \n",
       "3                                           0.564663                   1   \n",
       "4                                           0.575617                   1   \n",
       "\n",
       "    Equity to Liability  \n",
       "0              0.016469  \n",
       "1              0.020794  \n",
       "2              0.016474  \n",
       "3              0.023982  \n",
       "4              0.035490  \n",
       "\n",
       "[5 rows x 96 columns]"
      ]
     },
     "execution_count": 3,
     "metadata": {},
     "output_type": "execute_result"
    }
   ],
   "source": [
    "data.head()"
   ]
  },
  {
   "cell_type": "code",
   "execution_count": 4,
   "metadata": {},
   "outputs": [
    {
     "data": {
      "text/plain": [
       "0    6599\n",
       "1     220\n",
       "Name: Bankrupt?, dtype: int64"
      ]
     },
     "execution_count": 4,
     "metadata": {},
     "output_type": "execute_result"
    }
   ],
   "source": [
    "data['Bankrupt?'].value_counts()"
   ]
  },
  {
   "cell_type": "code",
   "execution_count": 5,
   "metadata": {},
   "outputs": [
    {
     "name": "stdout",
     "output_type": "stream",
     "text": [
      "<class 'pandas.core.frame.DataFrame'>\n",
      "RangeIndex: 6819 entries, 0 to 6818\n",
      "Data columns (total 96 columns):\n",
      " #   Column                                                    Non-Null Count  Dtype  \n",
      "---  ------                                                    --------------  -----  \n",
      " 0   Bankrupt?                                                 6819 non-null   int64  \n",
      " 1    ROA(C) before interest and depreciation before interest  6819 non-null   float64\n",
      " 2    ROA(A) before interest and % after tax                   6819 non-null   float64\n",
      " 3    ROA(B) before interest and depreciation after tax        6819 non-null   float64\n",
      " 4    Operating Gross Margin                                   6819 non-null   float64\n",
      " 5    Realized Sales Gross Margin                              6819 non-null   float64\n",
      " 6    Operating Profit Rate                                    6819 non-null   float64\n",
      " 7    Pre-tax net Interest Rate                                6819 non-null   float64\n",
      " 8    After-tax net Interest Rate                              6819 non-null   float64\n",
      " 9    Non-industry income and expenditure/revenue              6819 non-null   float64\n",
      " 10   Continuous interest rate (after tax)                     6819 non-null   float64\n",
      " 11   Operating Expense Rate                                   6819 non-null   float64\n",
      " 12   Research and development expense rate                    6819 non-null   float64\n",
      " 13   Cash flow rate                                           6819 non-null   float64\n",
      " 14   Interest-bearing debt interest rate                      6819 non-null   float64\n",
      " 15   Tax rate (A)                                             6819 non-null   float64\n",
      " 16   Net Value Per Share (B)                                  6819 non-null   float64\n",
      " 17   Net Value Per Share (A)                                  6819 non-null   float64\n",
      " 18   Net Value Per Share (C)                                  6819 non-null   float64\n",
      " 19   Persistent EPS in the Last Four Seasons                  6819 non-null   float64\n",
      " 20   Cash Flow Per Share                                      6819 non-null   float64\n",
      " 21   Revenue Per Share (Yuan ¥)                               6819 non-null   float64\n",
      " 22   Operating Profit Per Share (Yuan ¥)                      6819 non-null   float64\n",
      " 23   Per Share Net profit before tax (Yuan ¥)                 6819 non-null   float64\n",
      " 24   Realized Sales Gross Profit Growth Rate                  6819 non-null   float64\n",
      " 25   Operating Profit Growth Rate                             6819 non-null   float64\n",
      " 26   After-tax Net Profit Growth Rate                         6819 non-null   float64\n",
      " 27   Regular Net Profit Growth Rate                           6819 non-null   float64\n",
      " 28   Continuous Net Profit Growth Rate                        6819 non-null   float64\n",
      " 29   Total Asset Growth Rate                                  6819 non-null   float64\n",
      " 30   Net Value Growth Rate                                    6819 non-null   float64\n",
      " 31   Total Asset Return Growth Rate Ratio                     6819 non-null   float64\n",
      " 32   Cash Reinvestment %                                      6819 non-null   float64\n",
      " 33   Current Ratio                                            6819 non-null   float64\n",
      " 34   Quick Ratio                                              6819 non-null   float64\n",
      " 35   Interest Expense Ratio                                   6819 non-null   float64\n",
      " 36   Total debt/Total net worth                               6819 non-null   float64\n",
      " 37   Debt ratio %                                             6819 non-null   float64\n",
      " 38   Net worth/Assets                                         6819 non-null   float64\n",
      " 39   Long-term fund suitability ratio (A)                     6819 non-null   float64\n",
      " 40   Borrowing dependency                                     6819 non-null   float64\n",
      " 41   Contingent liabilities/Net worth                         6819 non-null   float64\n",
      " 42   Operating profit/Paid-in capital                         6819 non-null   float64\n",
      " 43   Net profit before tax/Paid-in capital                    6819 non-null   float64\n",
      " 44   Inventory and accounts receivable/Net value              6819 non-null   float64\n",
      " 45   Total Asset Turnover                                     6819 non-null   float64\n",
      " 46   Accounts Receivable Turnover                             6819 non-null   float64\n",
      " 47   Average Collection Days                                  6819 non-null   float64\n",
      " 48   Inventory Turnover Rate (times)                          6819 non-null   float64\n",
      " 49   Fixed Assets Turnover Frequency                          6819 non-null   float64\n",
      " 50   Net Worth Turnover Rate (times)                          6819 non-null   float64\n",
      " 51   Revenue per person                                       6819 non-null   float64\n",
      " 52   Operating profit per person                              6819 non-null   float64\n",
      " 53   Allocation rate per person                               6819 non-null   float64\n",
      " 54   Working Capital to Total Assets                          6819 non-null   float64\n",
      " 55   Quick Assets/Total Assets                                6819 non-null   float64\n",
      " 56   Current Assets/Total Assets                              6819 non-null   float64\n",
      " 57   Cash/Total Assets                                        6819 non-null   float64\n",
      " 58   Quick Assets/Current Liability                           6819 non-null   float64\n",
      " 59   Cash/Current Liability                                   6819 non-null   float64\n",
      " 60   Current Liability to Assets                              6819 non-null   float64\n",
      " 61   Operating Funds to Liability                             6819 non-null   float64\n",
      " 62   Inventory/Working Capital                                6819 non-null   float64\n",
      " 63   Inventory/Current Liability                              6819 non-null   float64\n",
      " 64   Current Liabilities/Liability                            6819 non-null   float64\n",
      " 65   Working Capital/Equity                                   6819 non-null   float64\n",
      " 66   Current Liabilities/Equity                               6819 non-null   float64\n",
      " 67   Long-term Liability to Current Assets                    6819 non-null   float64\n",
      " 68   Retained Earnings to Total Assets                        6819 non-null   float64\n",
      " 69   Total income/Total expense                               6819 non-null   float64\n",
      " 70   Total expense/Assets                                     6819 non-null   float64\n",
      " 71   Current Asset Turnover Rate                              6819 non-null   float64\n",
      " 72   Quick Asset Turnover Rate                                6819 non-null   float64\n",
      " 73   Working capitcal Turnover Rate                           6819 non-null   float64\n",
      " 74   Cash Turnover Rate                                       6819 non-null   float64\n",
      " 75   Cash Flow to Sales                                       6819 non-null   float64\n",
      " 76   Fixed Assets to Assets                                   6819 non-null   float64\n",
      " 77   Current Liability to Liability                           6819 non-null   float64\n",
      " 78   Current Liability to Equity                              6819 non-null   float64\n",
      " 79   Equity to Long-term Liability                            6819 non-null   float64\n",
      " 80   Cash Flow to Total Assets                                6819 non-null   float64\n",
      " 81   Cash Flow to Liability                                   6819 non-null   float64\n",
      " 82   CFO to Assets                                            6819 non-null   float64\n",
      " 83   Cash Flow to Equity                                      6819 non-null   float64\n",
      " 84   Current Liability to Current Assets                      6819 non-null   float64\n",
      " 85   Liability-Assets Flag                                    6819 non-null   int64  \n",
      " 86   Net Income to Total Assets                               6819 non-null   float64\n",
      " 87   Total assets to GNP price                                6819 non-null   float64\n",
      " 88   No-credit Interval                                       6819 non-null   float64\n",
      " 89   Gross Profit to Sales                                    6819 non-null   float64\n",
      " 90   Net Income to Stockholder's Equity                       6819 non-null   float64\n",
      " 91   Liability to Equity                                      6819 non-null   float64\n",
      " 92   Degree of Financial Leverage (DFL)                       6819 non-null   float64\n",
      " 93   Interest Coverage Ratio (Interest expense to EBIT)       6819 non-null   float64\n",
      " 94   Net Income Flag                                          6819 non-null   int64  \n",
      " 95   Equity to Liability                                      6819 non-null   float64\n",
      "dtypes: float64(93), int64(3)\n",
      "memory usage: 5.0 MB\n"
     ]
    }
   ],
   "source": [
    "data.info()"
   ]
  },
  {
   "cell_type": "code",
   "execution_count": 6,
   "metadata": {},
   "outputs": [],
   "source": [
    "X = data.drop('Bankrupt?', axis=1)\n",
    "y = data['Bankrupt?']\n",
    "\n",
    "X_train, X_test, y_train, y_test = train_test_split(X, y, random_state=2001)\n"
   ]
  },
  {
   "cell_type": "code",
   "execution_count": 7,
   "metadata": {},
   "outputs": [
    {
     "data": {
      "text/html": [
       "<div>\n",
       "<style scoped>\n",
       "    .dataframe tbody tr th:only-of-type {\n",
       "        vertical-align: middle;\n",
       "    }\n",
       "\n",
       "    .dataframe tbody tr th {\n",
       "        vertical-align: top;\n",
       "    }\n",
       "\n",
       "    .dataframe thead th {\n",
       "        text-align: right;\n",
       "    }\n",
       "</style>\n",
       "<table border=\"1\" class=\"dataframe\">\n",
       "  <thead>\n",
       "    <tr style=\"text-align: right;\">\n",
       "      <th></th>\n",
       "      <th>ROA(C) before interest and depreciation before interest</th>\n",
       "      <th>ROA(A) before interest and % after tax</th>\n",
       "      <th>ROA(B) before interest and depreciation after tax</th>\n",
       "      <th>Operating Gross Margin</th>\n",
       "      <th>Realized Sales Gross Margin</th>\n",
       "      <th>Operating Profit Rate</th>\n",
       "      <th>Pre-tax net Interest Rate</th>\n",
       "      <th>After-tax net Interest Rate</th>\n",
       "      <th>Non-industry income and expenditure/revenue</th>\n",
       "      <th>Continuous interest rate (after tax)</th>\n",
       "      <th>...</th>\n",
       "      <th>Net Income to Total Assets</th>\n",
       "      <th>Total assets to GNP price</th>\n",
       "      <th>No-credit Interval</th>\n",
       "      <th>Gross Profit to Sales</th>\n",
       "      <th>Net Income to Stockholder's Equity</th>\n",
       "      <th>Liability to Equity</th>\n",
       "      <th>Degree of Financial Leverage (DFL)</th>\n",
       "      <th>Interest Coverage Ratio (Interest expense to EBIT)</th>\n",
       "      <th>Net Income Flag</th>\n",
       "      <th>Equity to Liability</th>\n",
       "    </tr>\n",
       "  </thead>\n",
       "  <tbody>\n",
       "    <tr>\n",
       "      <th>4238</th>\n",
       "      <td>0.523659</td>\n",
       "      <td>0.556019</td>\n",
       "      <td>0.556507</td>\n",
       "      <td>0.621348</td>\n",
       "      <td>0.621420</td>\n",
       "      <td>0.999148</td>\n",
       "      <td>0.797514</td>\n",
       "      <td>0.809397</td>\n",
       "      <td>0.303368</td>\n",
       "      <td>0.781656</td>\n",
       "      <td>...</td>\n",
       "      <td>0.759368</td>\n",
       "      <td>1.271294e-13</td>\n",
       "      <td>0.623923</td>\n",
       "      <td>0.621348</td>\n",
       "      <td>0.841012</td>\n",
       "      <td>0.276067</td>\n",
       "      <td>0.027028</td>\n",
       "      <td>0.566082</td>\n",
       "      <td>0.0</td>\n",
       "      <td>0.080088</td>\n",
       "    </tr>\n",
       "    <tr>\n",
       "      <th>2937</th>\n",
       "      <td>0.467359</td>\n",
       "      <td>0.493440</td>\n",
       "      <td>0.497832</td>\n",
       "      <td>0.597933</td>\n",
       "      <td>0.597933</td>\n",
       "      <td>0.998898</td>\n",
       "      <td>0.797251</td>\n",
       "      <td>0.809181</td>\n",
       "      <td>0.303432</td>\n",
       "      <td>0.781444</td>\n",
       "      <td>...</td>\n",
       "      <td>0.705667</td>\n",
       "      <td>2.122690e-13</td>\n",
       "      <td>0.623287</td>\n",
       "      <td>0.597931</td>\n",
       "      <td>0.837633</td>\n",
       "      <td>0.282451</td>\n",
       "      <td>0.026580</td>\n",
       "      <td>0.563900</td>\n",
       "      <td>0.0</td>\n",
       "      <td>0.022690</td>\n",
       "    </tr>\n",
       "    <tr>\n",
       "      <th>3538</th>\n",
       "      <td>0.531989</td>\n",
       "      <td>0.519130</td>\n",
       "      <td>0.557150</td>\n",
       "      <td>0.597645</td>\n",
       "      <td>0.597645</td>\n",
       "      <td>0.998948</td>\n",
       "      <td>0.797357</td>\n",
       "      <td>0.809285</td>\n",
       "      <td>0.303512</td>\n",
       "      <td>0.781545</td>\n",
       "      <td>...</td>\n",
       "      <td>0.730942</td>\n",
       "      <td>2.508159e-14</td>\n",
       "      <td>0.623370</td>\n",
       "      <td>0.597642</td>\n",
       "      <td>0.839654</td>\n",
       "      <td>0.280364</td>\n",
       "      <td>0.026590</td>\n",
       "      <td>0.563973</td>\n",
       "      <td>0.0</td>\n",
       "      <td>0.027268</td>\n",
       "    </tr>\n",
       "    <tr>\n",
       "      <th>3879</th>\n",
       "      <td>0.544081</td>\n",
       "      <td>0.559971</td>\n",
       "      <td>0.571765</td>\n",
       "      <td>0.649072</td>\n",
       "      <td>0.649072</td>\n",
       "      <td>0.999351</td>\n",
       "      <td>0.797664</td>\n",
       "      <td>0.809487</td>\n",
       "      <td>0.303204</td>\n",
       "      <td>0.781931</td>\n",
       "      <td>...</td>\n",
       "      <td>0.758793</td>\n",
       "      <td>1.571543e-13</td>\n",
       "      <td>0.624216</td>\n",
       "      <td>0.649067</td>\n",
       "      <td>0.841300</td>\n",
       "      <td>0.278707</td>\n",
       "      <td>0.026992</td>\n",
       "      <td>0.565963</td>\n",
       "      <td>0.0</td>\n",
       "      <td>0.034275</td>\n",
       "    </tr>\n",
       "    <tr>\n",
       "      <th>551</th>\n",
       "      <td>0.471925</td>\n",
       "      <td>0.514080</td>\n",
       "      <td>0.506130</td>\n",
       "      <td>0.593645</td>\n",
       "      <td>0.593645</td>\n",
       "      <td>0.998931</td>\n",
       "      <td>0.797323</td>\n",
       "      <td>0.809253</td>\n",
       "      <td>0.303488</td>\n",
       "      <td>0.781500</td>\n",
       "      <td>...</td>\n",
       "      <td>0.722608</td>\n",
       "      <td>3.892992e-13</td>\n",
       "      <td>0.618422</td>\n",
       "      <td>0.593640</td>\n",
       "      <td>0.839214</td>\n",
       "      <td>0.278910</td>\n",
       "      <td>0.026444</td>\n",
       "      <td>0.562698</td>\n",
       "      <td>0.0</td>\n",
       "      <td>0.033122</td>\n",
       "    </tr>\n",
       "    <tr>\n",
       "      <th>...</th>\n",
       "      <td>...</td>\n",
       "      <td>...</td>\n",
       "      <td>...</td>\n",
       "      <td>...</td>\n",
       "      <td>...</td>\n",
       "      <td>...</td>\n",
       "      <td>...</td>\n",
       "      <td>...</td>\n",
       "      <td>...</td>\n",
       "      <td>...</td>\n",
       "      <td>...</td>\n",
       "      <td>...</td>\n",
       "      <td>...</td>\n",
       "      <td>...</td>\n",
       "      <td>...</td>\n",
       "      <td>...</td>\n",
       "      <td>...</td>\n",
       "      <td>...</td>\n",
       "      <td>...</td>\n",
       "      <td>...</td>\n",
       "      <td>...</td>\n",
       "    </tr>\n",
       "    <tr>\n",
       "      <th>1637</th>\n",
       "      <td>0.490642</td>\n",
       "      <td>0.538453</td>\n",
       "      <td>0.525778</td>\n",
       "      <td>0.597018</td>\n",
       "      <td>0.597018</td>\n",
       "      <td>0.998979</td>\n",
       "      <td>0.797383</td>\n",
       "      <td>0.809309</td>\n",
       "      <td>0.303492</td>\n",
       "      <td>0.781567</td>\n",
       "      <td>...</td>\n",
       "      <td>0.738295</td>\n",
       "      <td>9.088226e-14</td>\n",
       "      <td>0.623912</td>\n",
       "      <td>0.597018</td>\n",
       "      <td>0.840183</td>\n",
       "      <td>0.285476</td>\n",
       "      <td>0.030816</td>\n",
       "      <td>0.569149</td>\n",
       "      <td>0.0</td>\n",
       "      <td>0.019199</td>\n",
       "    </tr>\n",
       "    <tr>\n",
       "      <th>5094</th>\n",
       "      <td>0.503688</td>\n",
       "      <td>0.548389</td>\n",
       "      <td>0.540554</td>\n",
       "      <td>0.602149</td>\n",
       "      <td>0.602149</td>\n",
       "      <td>0.998850</td>\n",
       "      <td>0.798024</td>\n",
       "      <td>0.809882</td>\n",
       "      <td>0.304882</td>\n",
       "      <td>0.782170</td>\n",
       "      <td>...</td>\n",
       "      <td>0.752669</td>\n",
       "      <td>1.022029e-11</td>\n",
       "      <td>0.637337</td>\n",
       "      <td>0.602144</td>\n",
       "      <td>0.840787</td>\n",
       "      <td>0.276806</td>\n",
       "      <td>0.026814</td>\n",
       "      <td>0.565266</td>\n",
       "      <td>0.0</td>\n",
       "      <td>0.055787</td>\n",
       "    </tr>\n",
       "    <tr>\n",
       "      <th>6160</th>\n",
       "      <td>0.454714</td>\n",
       "      <td>0.464401</td>\n",
       "      <td>0.490069</td>\n",
       "      <td>0.592852</td>\n",
       "      <td>0.592852</td>\n",
       "      <td>0.998678</td>\n",
       "      <td>0.796751</td>\n",
       "      <td>0.808756</td>\n",
       "      <td>0.303019</td>\n",
       "      <td>0.781165</td>\n",
       "      <td>...</td>\n",
       "      <td>0.682516</td>\n",
       "      <td>1.472602e-14</td>\n",
       "      <td>0.623899</td>\n",
       "      <td>0.592848</td>\n",
       "      <td>0.837728</td>\n",
       "      <td>0.275987</td>\n",
       "      <td>0.026742</td>\n",
       "      <td>0.564912</td>\n",
       "      <td>0.0</td>\n",
       "      <td>0.084352</td>\n",
       "    </tr>\n",
       "    <tr>\n",
       "      <th>2438</th>\n",
       "      <td>0.514828</td>\n",
       "      <td>0.656255</td>\n",
       "      <td>0.546389</td>\n",
       "      <td>0.603208</td>\n",
       "      <td>0.603208</td>\n",
       "      <td>0.998966</td>\n",
       "      <td>0.797745</td>\n",
       "      <td>0.809651</td>\n",
       "      <td>0.304152</td>\n",
       "      <td>0.781576</td>\n",
       "      <td>...</td>\n",
       "      <td>0.828320</td>\n",
       "      <td>3.112829e-14</td>\n",
       "      <td>0.625104</td>\n",
       "      <td>0.603204</td>\n",
       "      <td>0.843728</td>\n",
       "      <td>0.275556</td>\n",
       "      <td>0.026792</td>\n",
       "      <td>0.565160</td>\n",
       "      <td>0.0</td>\n",
       "      <td>0.120945</td>\n",
       "    </tr>\n",
       "    <tr>\n",
       "      <th>1540</th>\n",
       "      <td>0.478850</td>\n",
       "      <td>0.507219</td>\n",
       "      <td>0.514321</td>\n",
       "      <td>0.592607</td>\n",
       "      <td>0.593047</td>\n",
       "      <td>0.998862</td>\n",
       "      <td>0.797239</td>\n",
       "      <td>0.809196</td>\n",
       "      <td>0.303486</td>\n",
       "      <td>0.781442</td>\n",
       "      <td>...</td>\n",
       "      <td>0.720014</td>\n",
       "      <td>4.724864e-13</td>\n",
       "      <td>0.622450</td>\n",
       "      <td>0.592605</td>\n",
       "      <td>0.839295</td>\n",
       "      <td>0.276327</td>\n",
       "      <td>0.026705</td>\n",
       "      <td>0.564709</td>\n",
       "      <td>0.0</td>\n",
       "      <td>0.069038</td>\n",
       "    </tr>\n",
       "  </tbody>\n",
       "</table>\n",
       "<p>5114 rows × 95 columns</p>\n",
       "</div>"
      ],
      "text/plain": [
       "       ROA(C) before interest and depreciation before interest  \\\n",
       "4238                                           0.523659          \n",
       "2937                                           0.467359          \n",
       "3538                                           0.531989          \n",
       "3879                                           0.544081          \n",
       "551                                            0.471925          \n",
       "...                                                 ...          \n",
       "1637                                           0.490642          \n",
       "5094                                           0.503688          \n",
       "6160                                           0.454714          \n",
       "2438                                           0.514828          \n",
       "1540                                           0.478850          \n",
       "\n",
       "       ROA(A) before interest and % after tax  \\\n",
       "4238                                 0.556019   \n",
       "2937                                 0.493440   \n",
       "3538                                 0.519130   \n",
       "3879                                 0.559971   \n",
       "551                                  0.514080   \n",
       "...                                       ...   \n",
       "1637                                 0.538453   \n",
       "5094                                 0.548389   \n",
       "6160                                 0.464401   \n",
       "2438                                 0.656255   \n",
       "1540                                 0.507219   \n",
       "\n",
       "       ROA(B) before interest and depreciation after tax  \\\n",
       "4238                                           0.556507    \n",
       "2937                                           0.497832    \n",
       "3538                                           0.557150    \n",
       "3879                                           0.571765    \n",
       "551                                            0.506130    \n",
       "...                                                 ...    \n",
       "1637                                           0.525778    \n",
       "5094                                           0.540554    \n",
       "6160                                           0.490069    \n",
       "2438                                           0.546389    \n",
       "1540                                           0.514321    \n",
       "\n",
       "       Operating Gross Margin   Realized Sales Gross Margin  \\\n",
       "4238                 0.621348                      0.621420   \n",
       "2937                 0.597933                      0.597933   \n",
       "3538                 0.597645                      0.597645   \n",
       "3879                 0.649072                      0.649072   \n",
       "551                  0.593645                      0.593645   \n",
       "...                       ...                           ...   \n",
       "1637                 0.597018                      0.597018   \n",
       "5094                 0.602149                      0.602149   \n",
       "6160                 0.592852                      0.592852   \n",
       "2438                 0.603208                      0.603208   \n",
       "1540                 0.592607                      0.593047   \n",
       "\n",
       "       Operating Profit Rate   Pre-tax net Interest Rate  \\\n",
       "4238                0.999148                    0.797514   \n",
       "2937                0.998898                    0.797251   \n",
       "3538                0.998948                    0.797357   \n",
       "3879                0.999351                    0.797664   \n",
       "551                 0.998931                    0.797323   \n",
       "...                      ...                         ...   \n",
       "1637                0.998979                    0.797383   \n",
       "5094                0.998850                    0.798024   \n",
       "6160                0.998678                    0.796751   \n",
       "2438                0.998966                    0.797745   \n",
       "1540                0.998862                    0.797239   \n",
       "\n",
       "       After-tax net Interest Rate  \\\n",
       "4238                      0.809397   \n",
       "2937                      0.809181   \n",
       "3538                      0.809285   \n",
       "3879                      0.809487   \n",
       "551                       0.809253   \n",
       "...                            ...   \n",
       "1637                      0.809309   \n",
       "5094                      0.809882   \n",
       "6160                      0.808756   \n",
       "2438                      0.809651   \n",
       "1540                      0.809196   \n",
       "\n",
       "       Non-industry income and expenditure/revenue  \\\n",
       "4238                                      0.303368   \n",
       "2937                                      0.303432   \n",
       "3538                                      0.303512   \n",
       "3879                                      0.303204   \n",
       "551                                       0.303488   \n",
       "...                                            ...   \n",
       "1637                                      0.303492   \n",
       "5094                                      0.304882   \n",
       "6160                                      0.303019   \n",
       "2438                                      0.304152   \n",
       "1540                                      0.303486   \n",
       "\n",
       "       Continuous interest rate (after tax)  ...   Net Income to Total Assets  \\\n",
       "4238                               0.781656  ...                     0.759368   \n",
       "2937                               0.781444  ...                     0.705667   \n",
       "3538                               0.781545  ...                     0.730942   \n",
       "3879                               0.781931  ...                     0.758793   \n",
       "551                                0.781500  ...                     0.722608   \n",
       "...                                     ...  ...                          ...   \n",
       "1637                               0.781567  ...                     0.738295   \n",
       "5094                               0.782170  ...                     0.752669   \n",
       "6160                               0.781165  ...                     0.682516   \n",
       "2438                               0.781576  ...                     0.828320   \n",
       "1540                               0.781442  ...                     0.720014   \n",
       "\n",
       "       Total assets to GNP price   No-credit Interval   Gross Profit to Sales  \\\n",
       "4238                1.271294e-13             0.623923                0.621348   \n",
       "2937                2.122690e-13             0.623287                0.597931   \n",
       "3538                2.508159e-14             0.623370                0.597642   \n",
       "3879                1.571543e-13             0.624216                0.649067   \n",
       "551                 3.892992e-13             0.618422                0.593640   \n",
       "...                          ...                  ...                     ...   \n",
       "1637                9.088226e-14             0.623912                0.597018   \n",
       "5094                1.022029e-11             0.637337                0.602144   \n",
       "6160                1.472602e-14             0.623899                0.592848   \n",
       "2438                3.112829e-14             0.625104                0.603204   \n",
       "1540                4.724864e-13             0.622450                0.592605   \n",
       "\n",
       "       Net Income to Stockholder's Equity   Liability to Equity  \\\n",
       "4238                             0.841012              0.276067   \n",
       "2937                             0.837633              0.282451   \n",
       "3538                             0.839654              0.280364   \n",
       "3879                             0.841300              0.278707   \n",
       "551                              0.839214              0.278910   \n",
       "...                                   ...                   ...   \n",
       "1637                             0.840183              0.285476   \n",
       "5094                             0.840787              0.276806   \n",
       "6160                             0.837728              0.275987   \n",
       "2438                             0.843728              0.275556   \n",
       "1540                             0.839295              0.276327   \n",
       "\n",
       "       Degree of Financial Leverage (DFL)  \\\n",
       "4238                             0.027028   \n",
       "2937                             0.026580   \n",
       "3538                             0.026590   \n",
       "3879                             0.026992   \n",
       "551                              0.026444   \n",
       "...                                   ...   \n",
       "1637                             0.030816   \n",
       "5094                             0.026814   \n",
       "6160                             0.026742   \n",
       "2438                             0.026792   \n",
       "1540                             0.026705   \n",
       "\n",
       "       Interest Coverage Ratio (Interest expense to EBIT)   Net Income Flag  \\\n",
       "4238                                           0.566082                 0.0   \n",
       "2937                                           0.563900                 0.0   \n",
       "3538                                           0.563973                 0.0   \n",
       "3879                                           0.565963                 0.0   \n",
       "551                                            0.562698                 0.0   \n",
       "...                                                 ...                 ...   \n",
       "1637                                           0.569149                 0.0   \n",
       "5094                                           0.565266                 0.0   \n",
       "6160                                           0.564912                 0.0   \n",
       "2438                                           0.565160                 0.0   \n",
       "1540                                           0.564709                 0.0   \n",
       "\n",
       "       Equity to Liability  \n",
       "4238              0.080088  \n",
       "2937              0.022690  \n",
       "3538              0.027268  \n",
       "3879              0.034275  \n",
       "551               0.033122  \n",
       "...                    ...  \n",
       "1637              0.019199  \n",
       "5094              0.055787  \n",
       "6160              0.084352  \n",
       "2438              0.120945  \n",
       "1540              0.069038  \n",
       "\n",
       "[5114 rows x 95 columns]"
      ]
     },
     "execution_count": 7,
     "metadata": {},
     "output_type": "execute_result"
    }
   ],
   "source": [
    "from sklearn.preprocessing import MinMaxScaler\n",
    "\n",
    "scaler = MinMaxScaler()\n",
    "\n",
    "scaler.fit(X_train)\n",
    "X_train_scaled = pd.DataFrame(scaler.transform(X_train), index=X_train.index, columns=X_train.columns)\n",
    "X_train_scaled"
   ]
  },
  {
   "cell_type": "markdown",
   "metadata": {},
   "source": [
    "## Logistic Regression\n"
   ]
  },
  {
   "cell_type": "code",
   "execution_count": 8,
   "metadata": {},
   "outputs": [
    {
     "data": {
      "text/plain": [
       "LogisticRegression(C=1000000000000.0, fit_intercept=False, solver='liblinear')"
      ]
     },
     "execution_count": 8,
     "metadata": {},
     "output_type": "execute_result"
    }
   ],
   "source": [
    "\n",
    "logreg = LogisticRegression(fit_intercept=False, C=1e12, solver='liblinear')\n",
    "model_log = logreg.fit(X_train_scaled, y_train)\n",
    "model_log"
   ]
  },
  {
   "cell_type": "code",
   "execution_count": 9,
   "metadata": {},
   "outputs": [],
   "source": [
    "y_hat_train = logreg.predict(X_train)\n",
    "y_hat_test = logreg.predict(X_test)"
   ]
  },
  {
   "cell_type": "code",
   "execution_count": null,
   "metadata": {},
   "outputs": [],
   "source": []
  },
  {
   "cell_type": "code",
   "execution_count": 10,
   "metadata": {},
   "outputs": [
    {
     "name": "stdout",
     "output_type": "stream",
     "text": [
      "Training Precision:  [0.97598522 0.04448017]\n",
      "Testing Precision:  [0.96238532 0.02926829]\n",
      "\n",
      "\n",
      "\n",
      "Training Recall:  [0.64001615 0.51552795]\n",
      "Testing Recall:  [0.63730255 0.30508475]\n",
      "\n",
      "\n",
      "\n",
      "Training Accuracy:  0.6360969886585843\n",
      "Testing Accuracy:  0.6258064516129033\n",
      "\n",
      "\n",
      "\n",
      "Training F1-Score:  [0.77307645 0.08189443]\n",
      "Testing F1-Score:  [0.76681287 0.05341246]\n"
     ]
    }
   ],
   "source": [
    "print('Training Precision: ', precision_score(y_train, y_hat_train, average=None))\n",
    "print('Testing Precision: ', precision_score(y_test, y_hat_test, average=None))\n",
    "print('\\n\\n')\n",
    "\n",
    "print('Training Recall: ', recall_score(y_train, y_hat_train, average=None))\n",
    "print('Testing Recall: ', recall_score(y_test, y_hat_test, average=None))\n",
    "print('\\n\\n')\n",
    "\n",
    "print('Training Accuracy: ', accuracy_score(y_train, y_hat_train))\n",
    "print('Testing Accuracy: ', accuracy_score(y_test, y_hat_test))\n",
    "print('\\n\\n')\n",
    "\n",
    "print('Training F1-Score: ', f1_score(y_train, y_hat_train, average=None))\n",
    "print('Testing F1-Score: ', f1_score(y_test, y_hat_test, average=None))\n"
   ]
  },
  {
   "cell_type": "code",
   "execution_count": 11,
   "metadata": {},
   "outputs": [
    {
     "data": {
      "image/png": "[encoded data removed]",
      "text/plain": [
       "<Figure size 432x288 with 2 Axes>"
      ]
     },
     "metadata": {
      "needs_background": "light"
     },
     "output_type": "display_data"
    }
   ],
   "source": [
    "# Plot the confusion matrix\n",
    "plot_confusion_matrix(logreg, X_test, y_test,\n",
    "                     cmap=plt.cm.Blues)\n",
    "plt.show()"
   ]
  },
  {
   "cell_type": "markdown",
   "metadata": {},
   "source": [
    "## KNN"
   ]
  },
  {
   "cell_type": "code",
   "execution_count": 12,
   "metadata": {},
   "outputs": [],
   "source": [
    "# Instantiate StandardScaler\n",
    "scaler = StandardScaler()\n",
    "\n",
    "# Transform the training and test sets\n",
    "scaled_data_train = scaler.fit_transform(X_train)\n",
    "scaled_data_test = scaler.transform(X_test)\n",
    "\n"
   ]
  },
  {
   "cell_type": "code",
   "execution_count": 13,
   "metadata": {},
   "outputs": [],
   "source": [
    "# Import KNeighborsClassifier\n",
    "from sklearn.neighbors import KNeighborsClassifier\n",
    "\n",
    "# Instantiate KNeighborsClassifier\n",
    "clf = KNeighborsClassifier()\n",
    "\n",
    "# Fit the classifier\n",
    "clf.fit(scaled_data_train, y_train)\n",
    "\n",
    "# Predict on the test set\n",
    "test_preds = clf.predict(scaled_data_test)\n"
   ]
  },
  {
   "cell_type": "code",
   "execution_count": 14,
   "metadata": {},
   "outputs": [
    {
     "name": "stdout",
     "output_type": "stream",
     "text": [
      "Precision Score: [0.97156398 0.64705882]\n",
      "Recall Score: [0.9963548  0.18644068]\n",
      "Accuracy Score: 0.9683284457478006\n",
      "F1 Score: [0.98380324 0.28947368]\n"
     ]
    }
   ],
   "source": [
    "# Complete the function\n",
    "def print_metrics(labels, preds):\n",
    "    print(\"Precision Score: {}\".format(precision_score(labels, preds, average=None)))\n",
    "    print(\"Recall Score: {}\".format(recall_score(labels, preds, average=None)))\n",
    "    print(\"Accuracy Score: {}\".format(accuracy_score(labels, preds)))\n",
    "    print(\"F1 Score: {}\".format(f1_score(labels, preds,average=None)))\n",
    "    \n",
    "print_metrics(y_test, test_preds)"
   ]
  },
  {
   "cell_type": "code",
   "execution_count": 15,
   "metadata": {},
   "outputs": [
    {
     "data": {
      "image/png": "[encoded data removed]",
      "text/plain": [
       "<Figure size 432x288 with 2 Axes>"
      ]
     },
     "metadata": {
      "needs_background": "light"
     },
     "output_type": "display_data"
    }
   ],
   "source": [
    "# Plot the confusion matrix\n",
    "plot_confusion_matrix(clf, X_test, y_test,\n",
    "                     cmap=plt.cm.Blues)\n",
    "plt.show()"
   ]
  },
  {
   "cell_type": "markdown",
   "metadata": {},
   "source": [
    "## Decision tree"
   ]
  },
  {
   "cell_type": "code",
   "execution_count": 16,
   "metadata": {},
   "outputs": [
    {
     "data": {
      "text/plain": [
       "DecisionTreeClassifier(max_depth=5)"
      ]
     },
     "execution_count": 16,
     "metadata": {},
     "output_type": "execute_result"
    }
   ],
   "source": [
    "# Instantiate and fit a DecisionTreeClassifier\n",
    "tree_clf = DecisionTreeClassifier(criterion='gini', max_depth=5) \n",
    "tree_clf.fit(X_train, y_train)"
   ]
  },
  {
   "cell_type": "code",
   "execution_count": 17,
   "metadata": {},
   "outputs": [
    {
     "name": "stdout",
     "output_type": "stream",
     "text": [
      "[[1620   26]\n",
      " [  44   15]]\n",
      "              precision    recall  f1-score   support\n",
      "\n",
      "           0       0.97      0.98      0.98      1646\n",
      "           1       0.37      0.25      0.30        59\n",
      "\n",
      "    accuracy                           0.96      1705\n",
      "   macro avg       0.67      0.62      0.64      1705\n",
      "weighted avg       0.95      0.96      0.96      1705\n",
      "\n"
     ]
    }
   ],
   "source": [
    "# Test set predictions\n",
    "pred = tree_clf.predict(X_test)\n",
    "\n",
    "# Confusion matrix and classification report\n",
    "print(confusion_matrix(y_test, pred))\n",
    "print(classification_report(y_test, pred))"
   ]
  },
  {
   "cell_type": "markdown",
   "metadata": {},
   "source": [
    "## Random forest"
   ]
  },
  {
   "cell_type": "code",
   "execution_count": 18,
   "metadata": {},
   "outputs": [
    {
     "data": {
      "text/plain": [
       "RandomForestClassifier(max_depth=5)"
      ]
     },
     "execution_count": 18,
     "metadata": {},
     "output_type": "execute_result"
    }
   ],
   "source": [
    "#Random forest\n",
    "\n",
    "forest = RandomForestClassifier(n_estimators=100, max_depth= 5)\n",
    "forest.fit(X_train, y_train)"
   ]
  },
  {
   "cell_type": "code",
   "execution_count": 19,
   "metadata": {},
   "outputs": [
    {
     "name": "stdout",
     "output_type": "stream",
     "text": [
      "Train accuracy Score: 0.979663668361361\n",
      "Test accuracy Score: 0.9659824046920821\n"
     ]
    }
   ],
   "source": [
    "print(\"Train accuracy Score:\", forest.score(X_train, y_train))\n",
    "print(\"Test accuracy Score:\", forest.score(X_test, y_test))\n"
   ]
  },
  {
   "cell_type": "code",
   "execution_count": 20,
   "metadata": {},
   "outputs": [
    {
     "data": {
      "image/png": "[encoded data removed]",
      "text/plain": [
       "<Figure size 432x288 with 2 Axes>"
      ]
     },
     "metadata": {
      "needs_background": "light"
     },
     "output_type": "display_data"
    }
   ],
   "source": [
    "plot_confusion_matrix(forest, X_test, y_test,\n",
    "                     cmap=plt.cm.Blues)\n",
    "plt.show()"
   ]
  },
  {
   "cell_type": "code",
   "execution_count": 21,
   "metadata": {},
   "outputs": [
    {
     "data": {
      "text/plain": [
       "0.21621621621621623"
      ]
     },
     "execution_count": 21,
     "metadata": {},
     "output_type": "execute_result"
    }
   ],
   "source": [
    "rfc_pred = forest.predict(X_test)\n",
    "\n",
    "f1_score(y_test, rfc_pred)\n"
   ]
  },
  {
   "cell_type": "markdown",
   "metadata": {},
   "source": [
    "## XGBooster"
   ]
  },
  {
   "cell_type": "code",
   "execution_count": 22,
   "metadata": {},
   "outputs": [
    {
     "name": "stderr",
     "output_type": "stream",
     "text": [
      "/Users/andreim/opt/anaconda3/envs/learn-env/lib/python3.8/site-packages/xgboost/data.py:173: FutureWarning: pandas.Int64Index is deprecated and will be removed from pandas in a future version. Use pandas.Index with the appropriate dtype instead.\n",
      "  from pandas import MultiIndex, Int64Index\n"
     ]
    },
    {
     "name": "stdout",
     "output_type": "stream",
     "text": [
      "Training Accuracy: 100.0%\n",
      "Validation accuracy: 96.54%\n"
     ]
    }
   ],
   "source": [
    "# Instantiate XGBClassifier\n",
    "clf = XGBClassifier()\n",
    "\n",
    "# Fit XGBClassifier\n",
    "clf.fit(X_train, y_train)\n",
    "\n",
    "# Predict on training and test sets\n",
    "training_preds = clf.predict(X_train)\n",
    "test_preds = clf.predict(X_test)\n",
    "\n",
    "# Accuracy of training and test sets\n",
    "training_accuracy = accuracy_score(y_train, training_preds)\n",
    "test_accuracy = accuracy_score(y_test, test_preds)\n",
    "\n",
    "print('Training Accuracy: {:.4}%'.format(training_accuracy * 100))\n",
    "print('Validation accuracy: {:.4}%'.format(test_accuracy * 100))"
   ]
  },
  {
   "cell_type": "code",
   "execution_count": 23,
   "metadata": {},
   "outputs": [
    {
     "data": {
      "image/png": "[encoded data removed]",
      "text/plain": [
       "<Figure size 1800x720 with 2 Axes>"
      ]
     },
     "metadata": {
      "needs_background": "light"
     },
     "output_type": "display_data"
    }
   ],
   "source": [
    "fig, ax = plt.subplots(figsize=(25, 10))\n",
    "\n",
    "plot_confusion_matrix(clf, X_test, y_test,\n",
    "                     cmap=plt.cm.Blues, ax=ax)\n",
    "plt.show()"
   ]
  },
  {
   "cell_type": "code",
   "execution_count": 24,
   "metadata": {},
   "outputs": [
    {
     "name": "stdout",
     "output_type": "stream",
     "text": [
      "Train R^2: 0.21361023471031293\n",
      "Test R^2:  -2.922496280435745e+19\n"
     ]
    }
   ],
   "source": [
    "lr = LinearRegression()\n",
    "lr.fit(X_train, y_train)\n",
    "\n",
    "print(\"Train R^2:\", lr.score(X_train, y_train))\n",
    "print(\"Test R^2: \", lr.score(X_test, y_test))\n"
   ]
  },
  {
   "cell_type": "code",
   "execution_count": 37,
   "metadata": {},
   "outputs": [
    {
     "name": "stdout",
     "output_type": "stream",
     "text": [
      "Train R^2: 0.06618992789143341\n",
      "Test R^2:  0.07207045919786148\n",
      "Using 5 out of 95 features\n",
      "\n",
      "Train R^2: 0.08289969322434698\n",
      "Test R^2:  0.07339745004671516\n",
      "Using 10 out of 95 features\n",
      "\n",
      "Train R^2: 0.09291043370239371\n",
      "Test R^2:  0.08429572012528741\n",
      "Using 15 out of 95 features\n",
      "\n",
      "Train R^2: 0.10108672035276467\n",
      "Test R^2:  0.0813634512189132\n",
      "Using 20 out of 95 features\n",
      "\n",
      "Train R^2: 0.1189883571451168\n",
      "Test R^2:  0.09222756902795015\n",
      "Using 25 out of 95 features\n",
      "\n",
      "Train R^2: 0.1803892778870383\n",
      "Test R^2:  -9.722067830852022e+18\n",
      "Using 30 out of 95 features\n",
      "\n",
      "Train R^2: 0.18117390865760452\n",
      "Test R^2:  -9.005611517606344e+18\n",
      "Using 35 out of 95 features\n",
      "\n",
      "Train R^2: 0.18767866069080252\n",
      "Test R^2:  -1.5169615869760741e+19\n",
      "Using 40 out of 95 features\n",
      "\n",
      "Train R^2: 0.19118243667708512\n",
      "Test R^2:  -2.1319252968986636e+19\n",
      "Using 45 out of 95 features\n",
      "\n",
      "Train R^2: 0.19513969480657012\n",
      "Test R^2:  -3.7823533834879345e+19\n",
      "Using 50 out of 95 features\n",
      "\n",
      "Train R^2: 0.19676211345517358\n",
      "Test R^2:  -4.176367045104245e+19\n",
      "Using 55 out of 95 features\n",
      "\n",
      "Train R^2: 0.19866140898490392\n",
      "Test R^2:  -4.029853472032075e+19\n",
      "Using 60 out of 95 features\n",
      "\n",
      "Train R^2: 0.20056299189405014\n",
      "Test R^2:  -2.7758218135743877e+19\n",
      "Using 65 out of 95 features\n",
      "\n",
      "Train R^2: 0.19949252890730396\n",
      "Test R^2:  -3.2276417664510976e+19\n",
      "Using 70 out of 95 features\n",
      "\n",
      "Train R^2: 0.20571457025111428\n",
      "Test R^2:  -3.2650996658529817e+19\n",
      "Using 75 out of 95 features\n",
      "\n",
      "Train R^2: 0.2093859682751409\n",
      "Test R^2:  -3.2860565242548736e+19\n",
      "Using 80 out of 95 features\n",
      "\n",
      "Train R^2: 0.210399218245366\n",
      "Test R^2:  -3.029517286056176e+19\n",
      "Using 85 out of 95 features\n",
      "\n",
      "Train R^2: 0.213841594199643\n",
      "Test R^2:  -3.044649887178773e+19\n",
      "Using 90 out of 95 features\n",
      "\n",
      "Train R^2: 0.21361023471031293\n",
      "Test R^2:  -2.922496280435745e+19\n",
      "Using 95 out of 95 features\n",
      "\n"
     ]
    }
   ],
   "source": [
    "for n in [5, 10, 15, 20, 25, 30, 35, 40, 45, 50, 55, 60, 65, 70, 75, 80, 85, 90, 95]:\n",
    "    rfe = RFE(LinearRegression(), n_features_to_select=n)\n",
    "    X_rfe_train = rfe.fit_transform(X_train, y_train)\n",
    "    X_rfe_test = rfe.transform(X_test)\n",
    "\n",
    "    lr = LinearRegression()\n",
    "    lr.fit(X_rfe_train, y_train)\n",
    "\n",
    "    print(\"Train R^2:\", lr.score(X_rfe_train, y_train))\n",
    "    print(\"Test R^2: \", lr.score(X_rfe_test, y_test))\n",
    "    print(f\"Using {n} out of {X_train.shape[1]} features\")\n",
    "    print()"
   ]
  },
  {
   "cell_type": "code",
   "execution_count": 25,
   "metadata": {},
   "outputs": [
    {
     "name": "stdout",
     "output_type": "stream",
     "text": [
      "Train R^2: 0.03283213079604774\n",
      "Test R^2:  -0.03237152596708692\n",
      "Using 93 out of 95 features\n",
      "and an alpha of 1\n",
      "\n",
      "Train R^2: 0.03283213079085601\n",
      "Test R^2:  -0.03237074592760614\n",
      "Using 93 out of 95 features\n",
      "and an alpha of 10\n",
      "\n",
      "Train R^2: 0.03283213027168941\n",
      "Test R^2:  -0.03236294632996062\n",
      "Using 93 out of 95 features\n",
      "and an alpha of 100\n",
      "\n",
      "Train R^2: 0.032832078355719\n",
      "Test R^2:  -0.032285019009536065\n",
      "Using 93 out of 95 features\n",
      "and an alpha of 1000\n",
      "\n",
      "Train R^2: 0.032827655209165085\n",
      "Test R^2:  -0.03160596173877983\n",
      "Using 93 out of 95 features\n",
      "and an alpha of 10000\n",
      "\n"
     ]
    }
   ],
   "source": [
    "for alpha in [1, 10, 100, 1000, 10000]:\n",
    "    lasso = Lasso(alpha=alpha)\n",
    "    lasso.fit(X_train, y_train)\n",
    "\n",
    "    print(\"Train R^2:\", lasso.score(X_train, y_train))\n",
    "    print(\"Test R^2: \", lasso.score(X_test, y_test))\n",
    "    print(f\"Using {sum(abs(lasso.coef_) < 10**(-10))} out of {X_train.shape[1]} features\")\n",
    "    print(\"and an alpha of\", alpha)\n",
    "    print()"
   ]
  },
  {
   "cell_type": "code",
   "execution_count": 26,
   "metadata": {},
   "outputs": [
    {
     "name": "stdout",
     "output_type": "stream",
     "text": [
      "(322, 95)\n"
     ]
    }
   ],
   "source": [
    "under_sampler = RandomUnderSampler(random_state=42)\n",
    "X_train_under, y_train_under = under_sampler.fit_resample(X_train,y_train)\n",
    "print(X_train_under.shape)"
   ]
  },
  {
   "cell_type": "code",
   "execution_count": 27,
   "metadata": {},
   "outputs": [
    {
     "name": "stdout",
     "output_type": "stream",
     "text": [
      "(9906, 95)\n"
     ]
    }
   ],
   "source": [
    "over_sampler = RandomOverSampler(random_state=42)\n",
    "X_train_over, y_train_over = over_sampler.fit_resample(X_train,y_train)\n",
    "print(X_train_over.shape)"
   ]
  },
  {
   "cell_type": "code",
   "execution_count": 28,
   "metadata": {},
   "outputs": [
    {
     "data": {
      "text/plain": [
       "DecisionTreeClassifier(random_state=42)"
      ]
     },
     "execution_count": 28,
     "metadata": {},
     "output_type": "execute_result"
    }
   ],
   "source": [
    "model_reg = DecisionTreeClassifier(random_state=42)\n",
    "\n",
    "model_reg.fit(X_train, y_train)\n",
    "\n",
    "model_under = DecisionTreeClassifier(random_state=42)\n",
    "\n",
    "model_under.fit(X_train_under, y_train_under)\n",
    "\n",
    "model_over =  DecisionTreeClassifier(random_state=42)\n",
    "\n",
    "model_over.fit(X_train_over, y_train_over)"
   ]
  },
  {
   "cell_type": "code",
   "execution_count": 29,
   "metadata": {},
   "outputs": [
    {
     "name": "stdout",
     "output_type": "stream",
     "text": [
      "Training Accuracy: 1.0\n",
      "Test Accuracy: 0.946\n",
      "Training Accuracy: 0.8252\n",
      "Test Accuracy: 0.7994\n",
      "Training Accuracy: 1.0\n",
      "Test Accuracy: 0.9484\n"
     ]
    }
   ],
   "source": [
    "for m in [model_reg, model_under, model_over]:\n",
    "    acc_train = m.score(X_train,y_train)\n",
    "    acc_test = m.score(X_test,y_test)\n",
    "\n",
    "    print(\"Training Accuracy:\", round(acc_train, 4))\n",
    "    print(\"Test Accuracy:\", round(acc_test, 4))"
   ]
  },
  {
   "cell_type": "code",
   "execution_count": 30,
   "metadata": {},
   "outputs": [
    {
     "data": {
      "image/png": "[encoded data removed]",
      "text/plain": [
       "<Figure size 1800x720 with 2 Axes>"
      ]
     },
     "metadata": {
      "needs_background": "light"
     },
     "output_type": "display_data"
    }
   ],
   "source": [
    "fig, ax = plt.subplots(figsize=(25, 10))\n",
    "\n",
    "plot_confusion_matrix(model_under, X_test, y_test,\n",
    "                     cmap=plt.cm.Blues, ax=ax)\n",
    "plt.show()"
   ]
  },
  {
   "cell_type": "code",
   "execution_count": 31,
   "metadata": {},
   "outputs": [
    {
     "data": {
      "image/png": "[encoded data removed]",
      "text/plain": [
       "<Figure size 1800x720 with 2 Axes>"
      ]
     },
     "metadata": {
      "needs_background": "light"
     },
     "output_type": "display_data"
    }
   ],
   "source": [
    "fig, ax = plt.subplots(figsize=(25, 10))\n",
    "\n",
    "plot_confusion_matrix(model_over, X_test, y_test,\n",
    "                     cmap=plt.cm.Blues, ax=ax)\n",
    "plt.show()"
   ]
  },
  {
   "cell_type": "code",
   "execution_count": 32,
   "metadata": {},
   "outputs": [
    {
     "data": {
      "image/png": "[encoded data removed]",
      "text/plain": [
       "<Figure size 432x288 with 1 Axes>"
      ]
     },
     "metadata": {
      "needs_background": "light"
     },
     "output_type": "display_data"
    }
   ],
   "source": [
    "importances = model_over.feature_importances_\n",
    "\n",
    "feat_imp = pd.Series(importances, index=X_train_over.columns).sort_values()\n",
    "\n",
    "# Plot series\n",
    "feat_imp.tail(15).plot(kind=\"barh\")\n",
    "plt.xlabel(\"Gini Importance\")\n",
    "plt.ylabel(\"Feature\")\n",
    "plt.title(\"model_over Feature Importance\");"
   ]
  },
  {
   "cell_type": "code",
   "execution_count": 33,
   "metadata": {},
   "outputs": [],
   "source": [
    "X_train_sm, y_train_sm = SMOTE(random_state=1).fit_resample(X_train, y_train)"
   ]
  },
  {
   "cell_type": "code",
   "execution_count": 34,
   "metadata": {},
   "outputs": [
    {
     "name": "stdout",
     "output_type": "stream",
     "text": [
      "Train set Accuracy:  1.0\n",
      "Test set Accuracy:  0.9325513196480938\n"
     ]
    }
   ],
   "source": [
    "from sklearn import metrics\n",
    "\n",
    "model = DecisionTreeClassifier(random_state=1)\n",
    "model.fit(X_train_sm, y_train_sm)\n",
    "pred = model.predict(X_test)\n",
    "cm = confusion_matrix(y_test, pred)\n",
    "print(\"Train set Accuracy: \", metrics.accuracy_score(y_train_sm, model.predict(X_train_sm)))\n",
    "print(\"Test set Accuracy: \", metrics.accuracy_score(y_test, pred))"
   ]
  },
  {
   "cell_type": "code",
   "execution_count": 35,
   "metadata": {},
   "outputs": [
    {
     "data": {
      "image/png": "[encoded data removed]",
      "text/plain": [
       "<Figure size 1800x720 with 2 Axes>"
      ]
     },
     "metadata": {
      "needs_background": "light"
     },
     "output_type": "display_data"
    }
   ],
   "source": [
    "fig, ax = plt.subplots(figsize=(25, 10))\n",
    "\n",
    "plot_confusion_matrix(model, X_test, y_test,\n",
    "                     cmap=plt.cm.Blues, ax=ax)\n",
    "plt.show()\n"
   ]
  },
  {
   "cell_type": "code",
   "execution_count": 36,
   "metadata": {},
   "outputs": [
    {
     "name": "stdout",
     "output_type": "stream",
     "text": [
      "              precision    recall  f1-score   support\n",
      "\n",
      "           0       0.98      0.95      0.96      1646\n",
      "           1       0.24      0.44      0.31        59\n",
      "\n",
      "    accuracy                           0.93      1705\n",
      "   macro avg       0.61      0.70      0.64      1705\n",
      "weighted avg       0.95      0.93      0.94      1705\n",
      "\n"
     ]
    }
   ],
   "source": [
    "pred = model.predict(X_test)\n",
    "print(classification_report(y_test, pred))"
   ]
  },
  {
   "cell_type": "code",
   "execution_count": null,
   "metadata": {},
   "outputs": [],
   "source": []
  }
 ],
 "metadata": {
  "kernelspec": {
   "display_name": "Python (learn-env)",
   "language": "python",
   "name": "learn-env"
  },
  "language_info": {
   "codemirror_mode": {
    "name": "ipython",
    "version": 3
   },
   "file_extension": ".py",
   "mimetype": "text/x-python",
   "name": "python",
   "nbconvert_exporter": "python",
   "pygments_lexer": "ipython3",
   "version": "3.8.5"
  }
 },
 "nbformat": 4,
 "nbformat_minor": 4
}
